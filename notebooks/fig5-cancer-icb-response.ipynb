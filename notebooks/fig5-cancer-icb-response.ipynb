{
 "cells": [
  {
   "cell_type": "code",
   "execution_count": 1,
   "metadata": {},
   "outputs": [],
   "source": [
    "#data\n",
    "import pandas as pd\n",
    "import os\n",
    "import numpy as np\n",
    "import json"
   ]
  },
  {
   "cell_type": "code",
   "execution_count": 2,
   "metadata": {},
   "outputs": [],
   "source": [
    "#plotting\n",
    "import matplotlib.pyplot as plt\n",
    "import seaborn as sns\n",
    "import matplotlib\n",
    "matplotlib.rcParams['pdf.fonttype'] = 42\n",
    "matplotlib.rcParams['ps.fonttype'] = 42"
   ]
  },
  {
   "cell_type": "code",
   "execution_count": 39,
   "metadata": {},
   "outputs": [],
   "source": [
    "#statistics\n",
    "from sklearn import metrics\n",
    "from sklearn import linear_model\n",
    "import statsmodels.api as sm\n",
    "import statsmodels.stats.multitest as multi\n",
    "from scipy.stats import mannwhitneyu\n",
    "from scipy import stats\n",
    "from sklearn.decomposition import PCA\n",
    "from sklearn.preprocessing import MinMaxScaler\n",
    "from scipy.stats import mannwhitneyu\n",
    "from scipy import stats\n",
    "from sklearn import metrics\n",
    "import sklearn.preprocessing\n",
    "from sklearn.model_selection import train_test_split\n",
    "from sklearn.linear_model import Lasso\n",
    "import xgboost\n",
    "from sklearn.model_selection import cross_val_score\n",
    "from sklearn.model_selection import RepeatedKFold\n",
    "from sklearn.datasets import load_boston\n",
    "from sklearn.model_selection import timportance_type=split\n",
    "from sklearn.inspection import permutation_importance"
   ]
  },
  {
   "cell_type": "code",
   "execution_count": 5,
   "metadata": {},
   "outputs": [],
   "source": [
    "def fdr(df,p):\n",
    "    \n",
    "    '''\n",
    "    Inputs:\n",
    "    df: dataframe of p-values\n",
    "    p: p-value column\n",
    "    \n",
    "    '''\n",
    "    #calculate benjamin-hochberg fdr\n",
    "    probabilities = df[p].to_numpy()\n",
    "    report = multi.multipletests(probabilities,\n",
    "                alpha=0.05,\n",
    "                method=\"fdr_bh\",\n",
    "                is_sorted=False,\n",
    "            )\n",
    "    discoveries = report[1]\n",
    "    df[\"fdr\"]=discoveries\n",
    "    df[\"fdr\"]=pd.to_numeric(df[\"fdr\"])\n",
    "    df[\"-log10(fdr)\"]=-np.log10(df[\"fdr\"])\n",
    "    return(df)\n"
   ]
  },
  {
   "cell_type": "code",
   "execution_count": 6,
   "metadata": {},
   "outputs": [],
   "source": [
    "def ppoints(n, a):\n",
    "    \n",
    "    '''numpy analogue or `R`'s `ppoints` function\n",
    "        see details at http://stat.ethz.ch/R-manual/R-patched/library/stats/html/ppoints.html \n",
    "        :param n: array type or number'''\n",
    "    \n",
    "    try:\n",
    "        n = np.float(len(n))\n",
    "    except TypeError:\n",
    "        n = np.float(n)\n",
    "    return (np.arange(n) + 1 - a)/(n + 1 - 2*a)"
   ]
  },
  {
   "cell_type": "code",
   "execution_count": 7,
   "metadata": {},
   "outputs": [],
   "source": [
    "def calculate_ols(df, x, y):\n",
    "    \n",
    "    '''\n",
    "    Inputs:\n",
    "    df: dataframe of phenotypes\n",
    "    x: pheno1\n",
    "    y: pheno2\n",
    "    '''\n",
    "    ols = linear_model.LinearRegression()\n",
    "    df=df[~df[x].isnull()]\n",
    "    df=df[~df[y].isnull()]\n",
    "    X=df[x].values.reshape(-1, 1)\n",
    "    y=df[y].values.reshape(-1, 1)\n",
    "        \n",
    "    X = sm.add_constant(X)\n",
    "    model=sm.OLS(y,X)\n",
    "    results=model.fit()\n",
    "\n",
    "    return(results.pvalues[1],results.params[1])"
   ]
  },
  {
   "cell_type": "code",
   "execution_count": 8,
   "metadata": {},
   "outputs": [],
   "source": [
    "def compile_freq(freq_directory, cohorts):\n",
    "    \n",
    "    '''\n",
    "    freq_directory: directory with frequency files\n",
    "    cohorts: list of cohorts to compiled frequencies\n",
    "    '''\n",
    "    \n",
    "    compiled_freq=pd.DataFrame()\n",
    "\n",
    "    for x in cohorts:\n",
    "        print(x)\n",
    "        f=pd.read_csv(freq_directory+x+\".freq.afreq\",delimiter=\"\\t\")\n",
    "        f[\"study\"]=x\n",
    "        compiled_freq=compiled_freq.append(f)\n",
    "    \n",
    "    return(compiled_freq)\n",
    "\n",
    "def extract_freq(compiled_freq, extract, exclude):\n",
    "    '''\n",
    "    compiled_freq: dataframe of compiled_frequencies\n",
    "    extract: list of snps to extract\n",
    "    exclude: list of snps to exclude\n",
    "    '''\n",
    "    \n",
    "    freq=compiled_freq[compiled_freq[\"ID\"].isin(extract)]\n",
    "    freq=freq[~freq[\"ID\"].isin(exclude)]\n",
    "    \n",
    "    return(freq)"
   ]
  },
  {
   "cell_type": "markdown",
   "metadata": {},
   "source": [
    "### ICB mapping"
   ]
  },
  {
   "cell_type": "code",
   "execution_count": 12,
   "metadata": {},
   "outputs": [],
   "source": [
    "df_mapping=pd.read_csv(\"/cellar/users/mpagadal/immunotherapy-trials/data/wxs_rna_mapping_table_v2.tsv\",delimiter=\"\\t\")\n",
    "mp_rna_geno=dict(zip(df_mapping[~df_mapping[\"tumor RNA id\"].isnull()][\"tumor RNA id\"],df_mapping[~df_mapping[\"tumor RNA id\"].isnull()][\"normal WXS id\"]))\n",
    "mp_study=dict(zip(df_mapping['normal WXS id'],df_mapping[\"study_cancer\"]))\n",
    "mp_sex=dict(zip(df_mapping[\"normal WXS id\"],df_mapping[\"Gender\"]))\n",
    "mp_age=dict(zip(df_mapping[\"normal WXS id\"],df_mapping[\"Age\"]))\n",
    "\n",
    "#get phenotype data\n",
    "pheno=pd.read_csv(\"/nrnb/users/mpagadal/ARCHIVE/immunotherapy-trials/normal_wxs/phenos/total.pheno.responder.v2.txt\",delimiter=\"\\t\")\n",
    "mp_pheno=dict(zip(pheno[\"FID\"],pheno[\"response_crist_sd\"]))"
   ]
  },
  {
   "cell_type": "code",
   "execution_count": 14,
   "metadata": {},
   "outputs": [],
   "source": [
    "snps=pd.read_csv(\"../tables/time-germline.csv\",delimiter=\"\\t\")\n",
    "snps[\"snp_noallele\"]=snps[\"proxy_variant\"].str.rsplit(\":\",2).str[0]\n",
    "mp_assoc=dict(zip(snps[\"snp_noallele\"],snps[\"file\"]))"
   ]
  },
  {
   "cell_type": "markdown",
   "metadata": {},
   "source": [
    "### Extract variants with MAF > 0.05 in discovery cohort"
   ]
  },
  {
   "cell_type": "code",
   "execution_count": 15,
   "metadata": {},
   "outputs": [
    {
     "name": "stdout",
     "output_type": "stream",
     "text": [
      "snyder\n",
      "hugo\n",
      "riaz\n",
      "vanallen\n",
      "39127678 ICB SNPs available through imputation\n",
      "4489839 ICB SNPs with MAF > 0.01 available through imputation\n"
     ]
    }
   ],
   "source": [
    "v1_cohorts=[\"snyder\",\"hugo\",\"riaz\",\"vanallen\"]\n",
    "\n",
    "compiled_freq=compile_freq(\"../data/icb-response/metal/input/response_crist_sd/\",v1_cohorts)\n",
    "print(\"{} ICB SNPs available through imputation\".format(len(compiled_freq[\"ID\"].unique())))\n",
    "\n",
    "common_compiled_freq=compiled_freq[compiled_freq[\"ALT_FREQS\"]>0.05] #Trying altered threshold\n",
    "#common_compiled_freq=compiled_freq[compiled_freq[\"ALT_FREQS\"]>0.25]\n",
    "\n",
    "print(\"{} ICB SNPs with MAF > 0.01 available through imputation\".format(len(common_compiled_freq[\"ID\"].unique())))"
   ]
  },
  {
   "cell_type": "code",
   "execution_count": 16,
   "metadata": {},
   "outputs": [],
   "source": [
    "#compiled_freq"
   ]
  },
  {
   "cell_type": "code",
   "execution_count": 17,
   "metadata": {},
   "outputs": [
    {
     "name": "stdout",
     "output_type": "stream",
     "text": [
      "562 snps with MAF > 0.05 in all studies\n"
     ]
    }
   ],
   "source": [
    "#1084 TIME snps\n",
    "time_snps=pd.read_csv(\"/cellar/users/mpagadal/projects/germline-immune/snp-tables/extract-all-time-variants-proxy.txt\",header=None)[0].tolist()\n",
    "exclude=pd.read_csv(\"/cellar/users/mpagadal/projects/germline-immune/snp-tables/exclude-high-mismatch-icb-snps.txt\",header=None)[0].tolist()\n",
    "exclude=exclude+[x.rsplit(\":\",2)[0]+\":\"+x.split(\":\")[3]+\":\"+x.split(\":\")[2] for x in exclude]\n",
    "\n",
    "time_freq=extract_freq(common_compiled_freq,time_snps,exclude)\n",
    "counts=time_freq[\"ID\"].value_counts().reset_index()\n",
    "print(\"{} snps with MAF > 0.05 in all studies\".format(len(counts[counts[\"ID\"]>(len(v1_cohorts)-1)])))\n",
    "\n",
    "#extract variants with MAF > 0.05 in all studies\n",
    "icb_snps=counts[counts[\"ID\"]>(len(v1_cohorts)-1)][\"index\"].tolist()+[x.rsplit(\":\",2)[0]+\":\"+x.split(\":\")[3]+\":\"+x.split(\":\")[2] for x in counts[counts[\"ID\"]>(len(v1_cohorts)-1)][\"index\"].tolist()]\n",
    "icb_snps=pd.DataFrame({\"snps\":icb_snps})"
   ]
  },
  {
   "cell_type": "code",
   "execution_count": 18,
   "metadata": {},
   "outputs": [],
   "source": [
    "#get high imputed snps\n",
    "info=pd.read_csv(\"/cellar/users/mpagadal/projects/germline-immune/data/icb-geno-qc/compiled.info\",delimiter=\"\\t\")\n",
    "high_impute_info=info[info[\"Rsq\"]>0.3]\n",
    "high_imputed_snps=high_impute_info[\"SNP\"].tolist()+[x.rsplit(\":\",2)[0]+\":\"+x.split(\":\")[3]+\":\"+x.split(\":\")[2] for x in high_impute_info[\"SNP\"].tolist()]"
   ]
  },
  {
   "cell_type": "code",
   "execution_count": 19,
   "metadata": {
    "tags": []
   },
   "outputs": [],
   "source": [
    "dict_freq=compiled_freq[[\"ID\",\"ALT_FREQS\"]].groupby(\"ID\").mean()\n",
    "mp_freq=dict(zip(dict_freq.index,dict_freq[\"ALT_FREQS\"]))"
   ]
  },
  {
   "cell_type": "markdown",
   "metadata": {},
   "source": [
    "### META-ANALYSIS of ICB response in 6 ICB studies"
   ]
  },
  {
   "cell_type": "markdown",
   "metadata": {},
   "source": [
    "### Get agnostic analysis"
   ]
  },
  {
   "cell_type": "code",
   "execution_count": 20,
   "metadata": {},
   "outputs": [
    {
     "name": "stdout",
     "output_type": "stream",
     "text": [
      "(525, 7)\n"
     ]
    },
    {
     "name": "stderr",
     "output_type": "stream",
     "text": [
      "<ipython-input-6-74da2dc9fdb5>:8: DeprecationWarning: `np.float` is a deprecated alias for the builtin `float`. To silence this warning, use `float` by itself. Doing this will not modify any behavior and is safe. If you specifically wanted the numpy scalar type, use `np.float64` here.\n",
      "Deprecated in NumPy 1.20; for more details and guidance: https://numpy.org/devdocs/release/1.20.0-notes.html#deprecations\n",
      "  n = np.float(len(n))\n",
      "<ipython-input-6-74da2dc9fdb5>:10: DeprecationWarning: `np.float` is a deprecated alias for the builtin `float`. To silence this warning, use `float` by itself. Doing this will not modify any behavior and is safe. If you specifically wanted the numpy scalar type, use `np.float64` here.\n",
      "Deprecated in NumPy 1.20; for more details and guidance: https://numpy.org/devdocs/release/1.20.0-notes.html#deprecations\n",
      "  n = np.float(n)\n"
     ]
    },
    {
     "data": {
      "text/plain": [
       "<matplotlib.legend.Legend at 0x1550b81c9d90>"
      ]
     },
     "execution_count": 20,
     "metadata": {},
     "output_type": "execute_result"
    },
    {
     "data": {
      "image/png": "[encoded data removed]",
      "text/plain": [
       "<Figure size 360x360 with 1 Axes>"
      ]
     },
     "metadata": {
      "needs_background": "light"
     },
     "output_type": "display_data"
    }
   ],
   "source": [
    "#get metal analysis results\n",
    "sd_metal=pd.read_csv(\"../data/icb-response/metal/output/response_crist_sd/v1.effect/METAANALYSIS1.TBL\",delimiter=\"\\t\")\n",
    "sd_metal=sd_metal[sd_metal[\"MarkerName\"].isin(icb_snps[\"snps\"].tolist())] #keep snps with MAF > 0.05 in all cohorts\n",
    "sd_metal=sd_metal[sd_metal[\"MarkerName\"].isin(high_imputed_snps)] #include high confidence snps only\n",
    "print(sd_metal.shape)\n",
    "sd_metal=fdr(sd_metal,\"P-value\")\n",
    "\n",
    "fig = plt.figure(figsize=(5,5))\n",
    "ax = fig.add_subplot(111)\n",
    "\n",
    "p_values=sd_metal.sort_values(by=\"P-value\")[\"P-value\"].tolist()\n",
    "plt.scatter(-np.log10(ppoints(len(p_values), 1./2)), -np.log10(p_values),label=\"TIMEsnps n=\"+str(len(p_values)))\n",
    "\n",
    "ax.plot([0,ax.get_xlim()[1]], [0,ax.get_xlim()[1]], ls=\"--\", c=\"k\")\n",
    "ax.set_xlabel(\"Expected -log10 P value\")\n",
    "ax.set_ylabel(\"Observed -log10 P value\")\n",
    "plt.legend()\n",
    "plt.savefig(\"../plots/fig5/icb.qq.pdf\")"
   ]
  },
  {
   "cell_type": "code",
   "execution_count": 21,
   "metadata": {},
   "outputs": [],
   "source": [
    "#plot histogram"
   ]
  },
  {
   "cell_type": "code",
   "execution_count": 22,
   "metadata": {},
   "outputs": [],
   "source": [
    "sd_metal[\"snp_noallele\"]=sd_metal[\"MarkerName\"].str.rsplit(\":\",2).str[0]\n",
    "sd_metal[\"freq\"]=sd_metal[\"MarkerName\"].map(mp_freq)\n",
    "sd_metal[\"file\"]=sd_metal[\"snp_noallele\"].map(mp_assoc)"
   ]
  },
  {
   "cell_type": "code",
   "execution_count": 23,
   "metadata": {},
   "outputs": [],
   "source": [
    "#sd_metal.to_csv(\"/cellar/users/tsears/projects/germline-immune/data/supplemental/Supplemental_Table_8_MAF_0.1.csv\",index=None)"
   ]
  },
  {
   "cell_type": "markdown",
   "metadata": {},
   "source": [
    "### Create burden score with SNPs in other cohort"
   ]
  },
  {
   "cell_type": "code",
   "execution_count": 24,
   "metadata": {},
   "outputs": [],
   "source": [
    "random_state=10"
   ]
  },
  {
   "cell_type": "code",
   "execution_count": 25,
   "metadata": {},
   "outputs": [],
   "source": [
    "def make_burden(raw, snps, mp_alleles):\n",
    "    #get raw ICB genotypes\n",
    "    raw=pd.read_csv(raw,delim_whitespace=True)\n",
    "    raw=raw.set_index(\"FID\")\n",
    "    raw=raw.iloc[:,5:]\n",
    "    \n",
    "    snps=pd.DataFrame({\"ID\":snps})\n",
    "    snps[\"A1\"]=snps[\"ID\"].map(mp_alleles)\n",
    "    print(\"constructing burden from {} snps\".format(len(snps)))\n",
    "    \n",
    "    burden_snps=[]\n",
    "\n",
    "    # Iterate through ICB associated snps\n",
    "\n",
    "    \n",
    "    for i,row in snps.iterrows():\n",
    "        \n",
    "        mp={0:2,1:1,2:0}\n",
    "        \n",
    "        snp_all=[x for x in raw.columns if row[\"ID\"] in x]\n",
    "        \n",
    "        if len(snp_all) == 0:\n",
    "            continue\n",
    "            \n",
    "        snp=snp_all[0]\n",
    "        \n",
    "        min_allele=snp.split(\"_\")[1]\n",
    "        if min_allele != row[\"A1\"]: #switching genotype if minor alleles are not aligned\n",
    "            #print(\"switching genotype {}\".format(snp))\n",
    "            raw[snp]=raw[snp].map(mp)\n",
    "        \n",
    "        burden_snps.append(snp)\n",
    "    \n",
    "    #make burden score\n",
    "    raw_burden=raw[burden_snps]\n",
    "    raw_burden[\"score\"]=raw_burden.sum(axis=1) \n",
    "    raw_burden[\"burden\"]=raw_burden[\"score\"]/(len(burden_snps)*2)\n",
    "    \n",
    "    return(raw_burden)"
   ]
  },
  {
   "cell_type": "markdown",
   "metadata": {},
   "source": [
    "### pvalue 0.05"
   ]
  },
  {
   "cell_type": "code",
   "execution_count": 26,
   "metadata": {},
   "outputs": [],
   "source": [
    "sd_metal_sig=sd_metal[sd_metal[\"P-value\"]<0.05]\n",
    "sd_metal_sig.sort_values(by=[\"MarkerName\",\"file\"])\n",
    "snps_sig=pd.merge(snps,sd_metal_sig,left_on=\"snp_noallele\",right_on=\"snp_noallele\")"
   ]
  },
  {
   "cell_type": "code",
   "execution_count": 27,
   "metadata": {},
   "outputs": [],
   "source": [
    "mp_alleles={}\n",
    "\n",
    "for i,row in sd_metal_sig.iterrows():\n",
    "    count=0\n",
    "    for sign in row[\"Direction\"]:\n",
    "        if sign == \"+\":\n",
    "            count+=1\n",
    "    if count > 2:\n",
    "        mp_alleles[row[\"MarkerName\"]]=row[\"Allele1\"].upper()\n",
    "    else:\n",
    "        mp_alleles[row[\"MarkerName\"]]=row[\"Allele2\"].upper()   "
   ]
  },
  {
   "cell_type": "code",
   "execution_count": 29,
   "metadata": {},
   "outputs": [
    {
     "name": "stdout",
     "output_type": "stream",
     "text": [
      "constructing burden from 32 snps\n"
     ]
    },
    {
     "name": "stderr",
     "output_type": "stream",
     "text": [
      "<ipython-input-25-856b46e7345d>:36: SettingWithCopyWarning: \n",
      "A value is trying to be set on a copy of a slice from a DataFrame.\n",
      "Try using .loc[row_indexer,col_indexer] = value instead\n",
      "\n",
      "See the caveats in the documentation: https://pandas.pydata.org/pandas-docs/stable/user_guide/indexing.html#returning-a-view-versus-a-copy\n",
      "  raw_burden[\"score\"]=raw_burden.sum(axis=1)\n",
      "<ipython-input-25-856b46e7345d>:37: SettingWithCopyWarning: \n",
      "A value is trying to be set on a copy of a slice from a DataFrame.\n",
      "Try using .loc[row_indexer,col_indexer] = value instead\n",
      "\n",
      "See the caveats in the documentation: https://pandas.pydata.org/pandas-docs/stable/user_guide/indexing.html#returning-a-view-versus-a-copy\n",
      "  raw_burden[\"burden\"]=raw_burden[\"score\"]/(len(burden_snps)*2)\n"
     ]
    }
   ],
   "source": [
    "sig_burden=make_burden(\"../data/icb-genotypes/all.time.raw\",sd_metal_sig[\"MarkerName\"].tolist(),mp_alleles)\n",
    "sig_burden[\"study\"]=sig_burden.index.map(mp_study)\n",
    "sig_burden[\"pheno\"]=sig_burden.index.map(mp_pheno)\n",
    "sig_burden=sig_burden[~sig_burden[\"pheno\"].isnull()]"
   ]
  },
  {
   "cell_type": "code",
   "execution_count": 31,
   "metadata": {
    "tags": []
   },
   "outputs": [],
   "source": [
    "#Map beta values from crist study onto SNPs if applicable\n",
    "#read in beta_table\n",
    "beta_table=pd.read_csv(\"../data/icb-response/prsice-associations/response_crist_sd.prsice.response_crist_sd.glm.logistic.hybrid\",delimiter='\\t')\n",
    "#trim beta table to only ADD\n",
    "beta_table=beta_table[beta_table[\"TEST\"]==\"ADD\"]\n",
    "#adjust mapping colname\n",
    "s=beta_table[\"ID\"].str.rsplit(\":\",2)\n",
    "sm = np.array(s.tolist())\n",
    "sm_chars=sm[:,2]\n",
    "beta_table[\"proxy_variant_chars\"]=beta_table[\"ID\"]+\"_\"+sm_chars\n",
    "#multiply snp_sig beta value on each matching SNP column\n",
    "for i in beta_table[\"proxy_variant_chars\"]:\n",
    "    if i in sig_burden:\n",
    "        sig_burden[i]=sig_burden[i]*float(beta_table.loc[beta_table[\"proxy_variant_chars\"]==i,\"OR\"])   "
   ]
  },
  {
   "cell_type": "code",
   "execution_count": 33,
   "metadata": {},
   "outputs": [],
   "source": [
    "sig_burden_LASSO_training=sig_burden[sig_burden[\"study\"].isin([\"vanallen\",\"hugo\",\"riaz\",\"snyder\"])]\n",
    "sig_burden_LASSO_testing=sig_burden[sig_burden[\"study\"].isin([\"miao\",\"rizvi\"])]\n",
    "sig_burden_LASSO_training_x=sig_burden_LASSO_training.drop(['score', 'burden','study','pheno'], axis=1)\n",
    "sig_burden_LASSO_training_y=sig_burden_LASSO_training['pheno']\n",
    "sig_burden_LASSO_testing_x=sig_burden_LASSO_testing.drop(['score', 'burden','study','pheno'], axis=1)\n",
    "sig_burden_LASSO_testing_y=sig_burden_LASSO_testing['pheno']"
   ]
  },
  {
   "cell_type": "code",
   "execution_count": 36,
   "metadata": {},
   "outputs": [
    {
     "name": "stdout",
     "output_type": "stream",
     "text": [
      "0.8428495481127061\n"
     ]
    },
    {
     "data": {
      "image/png": "[encoded data removed]",
      "text/plain": [
       "<Figure size 720x720 with 1 Axes>"
      ]
     },
     "metadata": {
      "needs_background": "light"
     },
     "output_type": "display_data"
    },
    {
     "name": "stdout",
     "output_type": "stream",
     "text": [
      "['16:23458272:T:C_C']\n"
     ]
    }
   ],
   "source": [
    "# define model\n",
    "model = Lasso(alpha=0.001,random_state=random_state)\n",
    "# fit model\n",
    "model.fit(sig_burden_LASSO_training_x, sig_burden_LASSO_training_y)\n",
    "p = model.predict(sig_burden_LASSO_training_x)  # test the output by changing values\n",
    "preds=p\n",
    "\n",
    "fpr, tpr, threshold = metrics.roc_curve(list(sig_burden_LASSO_training_y), preds,pos_label=2)\n",
    "roc_auc = metrics.auc(fpr, tpr)\n",
    "\n",
    "print(roc_auc)\n",
    "# method I: plt\n",
    "plt.figure(figsize=(10,10))\n",
    "plt.title('Simple LASSO AUC')\n",
    "plt.plot(fpr, tpr, 'b', label = 'AUC = %0.2f' % roc_auc)\n",
    "plt.legend(loc = 'lower right')\n",
    "plt.plot([0, 1], [0, 1],'r--')\n",
    "plt.xlim([0, 1])\n",
    "plt.ylim([0, 1])\n",
    "plt.ylabel('True Positive Rate')\n",
    "plt.xlabel('False Positive Rate')\n",
    "plt.show()\n",
    "\n",
    "#now drop SNPs with low contribution\n",
    "print(sig_burden_LASSO_training_x.columns.values[model.coef_==0])\n"
   ]
  },
  {
   "cell_type": "code",
   "execution_count": 37,
   "metadata": {},
   "outputs": [],
   "source": [
    "sig_burden_dropped=sig_burden.drop(sig_burden_LASSO_training_x.columns.values[model.coef_==0],axis=1)"
   ]
  },
  {
   "cell_type": "code",
   "execution_count": 38,
   "metadata": {},
   "outputs": [],
   "source": [
    "sig_burden_LASSO_training_dropped=sig_burden_dropped[sig_burden_dropped[\"study\"].isin([\"vanallen\",\"hugo\",\"riaz\",\"snyder\"])]\n",
    "sig_burden_LASSO_testing_dropped=sig_burden_dropped[sig_burden_dropped[\"study\"].isin([\"miao\",\"rizvi\"])]\n",
    "\n",
    "sig_burden_LASSO_training_x_dropped=sig_burden_LASSO_training_dropped.drop(['score', 'burden','study','pheno'], axis=1)\n",
    "sig_burden_LASSO_training_y_dropped=sig_burden_LASSO_training_dropped['pheno']\n",
    "\n",
    "sig_burden_LASSO_testing_x_dropped=sig_burden_LASSO_testing_dropped.drop(['score', 'burden','study','pheno'], axis=1)\n",
    "sig_burden_LASSO_testing_y_dropped=sig_burden_LASSO_testing_dropped['pheno']"
   ]
  },
  {
   "cell_type": "code",
   "execution_count": 40,
   "metadata": {},
   "outputs": [
    {
     "name": "stderr",
     "output_type": "stream",
     "text": [
      "<ipython-input-40-9f7abf46a7fb>:7: SettingWithCopyWarning: \n",
      "A value is trying to be set on a copy of a slice from a DataFrame.\n",
      "Try using .loc[row_indexer,col_indexer] = value instead\n",
      "\n",
      "See the caveats in the documentation: https://pandas.pydata.org/pandas-docs/stable/user_guide/indexing.html#returning-a-view-versus-a-copy\n",
      "  sig_burden_LASSO_testing_dropped[\"LASSO_burden\"]=p\n",
      "<ipython-input-40-9f7abf46a7fb>:8: SettingWithCopyWarning: \n",
      "A value is trying to be set on a copy of a slice from a DataFrame.\n",
      "Try using .loc[row_indexer,col_indexer] = value instead\n",
      "\n",
      "See the caveats in the documentation: https://pandas.pydata.org/pandas-docs/stable/user_guide/indexing.html#returning-a-view-versus-a-copy\n",
      "  sig_burden_LASSO_training_dropped[\"LASSO_burden\"]=p_disc\n"
     ]
    }
   ],
   "source": [
    "regressor_xgb = xgboost.XGBRFRegressor(n_estimators =500, random_state = random_state,learning_rate=0.1,max_depth=9)\n",
    "regressor_xgb.fit(sig_burden_LASSO_training_x_dropped, sig_burden_LASSO_training_y_dropped)  \n",
    "\n",
    "p = regressor_xgb.predict(sig_burden_LASSO_testing_x_dropped)  # test the output by changing values\n",
    "p_disc=regressor_xgb.predict(sig_burden_LASSO_training_x_dropped)\n",
    "\n",
    "sig_burden_LASSO_testing_dropped[\"LASSO_burden\"]=p\n",
    "sig_burden_LASSO_training_dropped[\"LASSO_burden\"]=p_disc"
   ]
  },
  {
   "cell_type": "code",
   "execution_count": 41,
   "metadata": {},
   "outputs": [
    {
     "name": "stderr",
     "output_type": "stream",
     "text": [
      "<ipython-input-41-7aaa38e91387>:7: SettingWithCopyWarning: \n",
      "A value is trying to be set on a copy of a slice from a DataFrame.\n",
      "Try using .loc[row_indexer,col_indexer] = value instead\n",
      "\n",
      "See the caveats in the documentation: https://pandas.pydata.org/pandas-docs/stable/user_guide/indexing.html#returning-a-view-versus-a-copy\n",
      "  validation_plot[\"LASSO_scaled\"] = minmax_scale.fit_transform(x)\n"
     ]
    },
    {
     "data": {
      "text/plain": [
       "(array([0, 1]), [Text(0, 0, '1.0'), Text(1, 0, '2.0')])"
      ]
     },
     "execution_count": 41,
     "metadata": {},
     "output_type": "execute_result"
    },
    {
     "data": {
      "text/plain": [
       "<Figure size 360x360 with 0 Axes>"
      ]
     },
     "metadata": {},
     "output_type": "display_data"
    },
    {
     "data": {
      "image/png": "[encoded data removed]",
      "text/plain": [
       "<Figure size 360x360 with 1 Axes>"
      ]
     },
     "metadata": {
      "needs_background": "light"
     },
     "output_type": "display_data"
    }
   ],
   "source": [
    "fig = plt.figure(figsize=(5,5))\n",
    "validation=sig_burden_LASSO_testing_dropped[sig_burden_LASSO_testing_dropped[\"study\"]==\"rizvi\"]\n",
    "\n",
    "validation_plot=validation\n",
    "minmax_scale = sklearn.preprocessing.MinMaxScaler(feature_range=(0, 10))\n",
    "x = validation_plot[\"LASSO_burden\"].values.reshape(-1, 1)\n",
    "validation_plot[\"LASSO_scaled\"] = minmax_scale.fit_transform(x)\n",
    "\n",
    "fig = plt.figure(figsize=(5,5))\n",
    "\n",
    "sns.boxplot(x=\"pheno\",y=\"LASSO_scaled\",data=validation_plot)\n",
    "\n",
    "cat1 = validation[validation[\"pheno\"]==1]\n",
    "cat2 = validation[validation[\"pheno\"]==2]\n",
    "rizvi_score=cat2[\"LASSO_burden\"].mean()-cat1[\"LASSO_burden\"].mean()\n",
    "\n",
    "plt.title(stats.mannwhitneyu(cat1[\"LASSO_burden\"], cat2[\"LASSO_burden\"])[1])\n",
    "\n",
    "plt.ylabel(\"burden (pvalue < 0.05) RF Regression\")\n",
    "plt.xticks(rotation=90)\n",
    "#plt.savefig(\"/cellar/users/tsears/projects/germline-immune/plots/fig6/rizvi_LASSO_PRS_scaled.pdf\")"
   ]
  },
  {
   "cell_type": "code",
   "execution_count": 42,
   "metadata": {},
   "outputs": [
    {
     "name": "stderr",
     "output_type": "stream",
     "text": [
      "<ipython-input-42-e26d6fd11e10>:7: SettingWithCopyWarning: \n",
      "A value is trying to be set on a copy of a slice from a DataFrame.\n",
      "Try using .loc[row_indexer,col_indexer] = value instead\n",
      "\n",
      "See the caveats in the documentation: https://pandas.pydata.org/pandas-docs/stable/user_guide/indexing.html#returning-a-view-versus-a-copy\n",
      "  validation_plot[\"LASSO_scaled\"] = minmax_scale.fit_transform(x)\n"
     ]
    },
    {
     "data": {
      "text/plain": [
       "(array([0, 1]), [Text(0, 0, '1.0'), Text(1, 0, '2.0')])"
      ]
     },
     "execution_count": 42,
     "metadata": {},
     "output_type": "execute_result"
    },
    {
     "data": {
      "text/plain": [
       "<Figure size 360x360 with 0 Axes>"
      ]
     },
     "metadata": {},
     "output_type": "display_data"
    },
    {
     "data": {
      "image/png": "[encoded data removed]",
      "text/plain": [
       "<Figure size 360x360 with 1 Axes>"
      ]
     },
     "metadata": {
      "needs_background": "light"
     },
     "output_type": "display_data"
    }
   ],
   "source": [
    "validation=sig_burden_LASSO_testing_dropped[sig_burden_LASSO_testing_dropped[\"study\"]==\"miao\"]\n",
    "validation_plot=validation\n",
    "minmax_scale = sklearn.preprocessing.MinMaxScaler(feature_range=(0, 10))\n",
    "x = validation_plot[\"LASSO_burden\"].values.reshape(-1, 1)\n",
    "validation_plot[\"LASSO_scaled\"] = minmax_scale.fit_transform(x)\n",
    "\n",
    "fig = plt.figure(figsize=(5,5))\n",
    "sns.boxplot(x=\"pheno\",y=\"LASSO_scaled\",data=validation_plot)\n",
    "cat1 = validation[validation[\"pheno\"]==1]\n",
    "cat2 = validation[validation[\"pheno\"]==2]\n",
    "miao_score=cat2[\"LASSO_burden\"].mean()-cat1[\"LASSO_burden\"].mean()\n",
    "plt.title(stats.mannwhitneyu(cat1[\"LASSO_burden\"], cat2[\"LASSO_burden\"])[1])\n",
    "\n",
    "plt.ylabel(\"burden (pvalue < 0.05) RF Regression\")\n",
    "plt.xticks(rotation=90)\n",
    "#plt.savefig(\"/cellar/users/tsears/projects/germline-immune/plots/fig6/miao_LASSO_PRS_scaled.pdf\")"
   ]
  },
  {
   "cell_type": "code",
   "execution_count": 44,
   "metadata": {},
   "outputs": [],
   "source": [
    "features = sig_burden_LASSO_testing_x_dropped.columns.values.tolist()\n",
    "features=[x.rsplit(\"_\")[0] for x in features]\n",
    "importances = regressor_xgb.feature_importances_\n",
    "\n",
    "mapping_table=pd.concat([pd.DataFrame(features),pd.DataFrame(importances)],axis=1)\n",
    "mapping_table.columns=[\"ID\",\"importance\"]\n",
    "\n",
    "rsid_table=pd.read_csv(\"../tables/time-germline.csv\",sep=\"\\t\")\n",
    "rsid_table=rsid_table.drop_duplicates(subset=\"rsid\")\n",
    "rsid_table=rsid_table[[\"snps\",\"rsid\"]]\n",
    "\n",
    "mapping_table[\"ID2\"]=[x.rsplit(\":\",2)[0]+\":\"+x.split(\":\")[3]+\":\"+x.split(\":\")[2] for x in mapping_table[\"ID\"].tolist()]\n",
    "\n",
    "compiled_icb_rsid=pd.merge(mapping_table,rsid_table,left_on=\"ID\",right_on=\"snps\")\n",
    "compiled_icb_rsid2=pd.merge(mapping_table,rsid_table,left_on=\"ID2\",right_on=\"snps\")\n",
    "\n",
    "compiled_icb_rsid_plot=pd.concat([compiled_icb_rsid,compiled_icb_rsid2],axis=0)\n",
    "compiled_icb_rsid_plot=compiled_icb_rsid_plot.sort_values(by=\"importance\")\n",
    "compiled_icb_rsid_plot_snps=compiled_icb_rsid_plot[\"snps\"]\n",
    "compiled_icb_rsid_plot_snps=pd.DataFrame(compiled_icb_rsid_plot_snps.tolist()+[x.rsplit(\":\",2)[0]+\":\"+x.split(\":\")[3]+\":\"+x.split(\":\")[2] for x in compiled_icb_rsid_plot_snps.tolist()])\n",
    "compiled_icb_rsid_plot=compiled_icb_rsid_plot.iloc[compiled_icb_rsid_plot.shape[0]-15:compiled_icb_rsid_plot.shape[0],:]"
   ]
  },
  {
   "cell_type": "code",
   "execution_count": null,
   "metadata": {},
   "outputs": [
    {
     "name": "stderr",
     "output_type": "stream",
     "text": [
      "findfont: Font family ['sans-serif'] not found. Falling back to DejaVu Sans.\n",
      "findfont: Generic family 'sans-serif' not found because none of the following families were found: Helvetica\n",
      "findfont: Font family ['sans-serif'] not found. Falling back to DejaVu Sans.\n",
      "findfont: Generic family 'sans-serif' not found because none of the following families were found: Helvetica\n"
     ]
    },
    {
     "data": {
      "image/png": "[encoded data removed]",
      "text/plain": [
       "<Figure size 576x576 with 1 Axes>"
      ]
     },
     "metadata": {
      "needs_background": "light"
     },
     "output_type": "display_data"
    }
   ],
   "source": [
    "plt.rcParams['font.family'] = 'sans-serif'\n",
    "plt.rcParams['font.sans-serif'] = 'Helvetica'\n",
    "\n",
    "plt.rcParams['axes.edgecolor']='darkslategrey'\n",
    "plt.rcParams['axes.linewidth']=1\n",
    "plt.rcParams['xtick.color']='black'\n",
    "plt.rcParams['ytick.color']='black'\n",
    "plt.style.use('seaborn-dark-palette')\n",
    "\n",
    "my_range=list(range(0,len(compiled_icb_rsid_plot[\"importance\"])))\n",
    "fig, ax = plt.subplots(figsize=(8,8))\n",
    "plt.hlines(y=my_range, xmin=0, xmax=compiled_icb_rsid_plot[\"importance\"], alpha=0.4, linewidth=7)\n",
    "plt.plot(compiled_icb_rsid_plot[\"importance\"], my_range, \"o\", markersize=7, alpha=0.7)\n",
    "# set labels style\n",
    "ax.set_xlabel('Relative Importance', fontsize=15, fontweight='black', color = '#333F4B')\n",
    "ax.set_ylabel('')\n",
    "# change the style of the axis spines\n",
    "ax.spines['top'].set_visible(False)\n",
    "ax.spines['right'].set_visible(False)\n",
    "ax.spines['left'].set_bounds((0, len(my_range)-1))\n",
    "ax.set_xlim(0,0.06)\n",
    "plt.yticks(range(len(compiled_icb_rsid_plot[\"importance\"])), compiled_icb_rsid_plot[\"rsid\"])\n",
    "# add some space between the axis and the plot\n",
    "ax.spines['left'].set_position(('outward', 8))\n",
    "ax.spines['bottom'].set_position(('outward', -10))\n",
    "\n",
    "#plt.savefig(\"/cellar/users/tsears/projects/germline-immune/plots/fig6/feature_importance_V2.pdf\",bbox_inches = \"tight\")"
   ]
  },
  {
   "cell_type": "code",
   "execution_count": 46,
   "metadata": {},
   "outputs": [
    {
     "data": {
      "image/png": "[encoded data removed]",
      "text/plain": [
       "<Figure size 432x432 with 1 Axes>"
      ]
     },
     "metadata": {
      "needs_background": "light"
     },
     "output_type": "display_data"
    }
   ],
   "source": [
    "validation_miao=sig_burden_LASSO_testing_dropped[sig_burden_LASSO_testing_dropped[\"study\"]==\"miao\"]\n",
    "validation_rizvi=sig_burden_LASSO_testing_dropped[sig_burden_LASSO_testing_dropped[\"study\"]==\"rizvi\"]\n",
    "preds=p\n",
    "\n",
    "fpr, tpr, threshold = metrics.roc_curve(validation_miao[\"pheno\"],validation_miao[\"LASSO_burden\"],pos_label=2)\n",
    "roc_auc = metrics.auc(fpr, tpr)\n",
    "\n",
    "fpr1, tpr1, threshold1 = metrics.roc_curve(validation_rizvi[\"pheno\"],validation_rizvi[\"LASSO_burden\"],pos_label=2)\n",
    "roc_auc1 = metrics.auc(fpr1, tpr1)\n",
    "\n",
    "# method I: plt\n",
    "plt.figure(figsize=(6,6))\n",
    "plt.title('Receiver Operating Characteristic')\n",
    "plt.plot(fpr, tpr, 'b', label = 'Miao AUC = %0.2f' % roc_auc)\n",
    "plt.plot(fpr1, tpr1, 'b', label = 'Rizvi AUC = %0.2f' % roc_auc1,color=\"red\")\n",
    "plt.legend(loc = 'lower right')\n",
    "plt.plot([0, 1], [0, 1],'r--')\n",
    "plt.xlim([0, 1])\n",
    "plt.ylim([0, 1])\n",
    "plt.ylabel('True Positive Rate')\n",
    "plt.xlabel('False Positive Rate')\n",
    "plt.savefig(\"../plots/fig5/validation_auc_plot.pdf\")\n",
    "plt.show()"
   ]
  },
  {
   "cell_type": "markdown",
   "metadata": {},
   "source": [
    "### Take random TIME snps"
   ]
  },
  {
   "cell_type": "code",
   "execution_count": 47,
   "metadata": {},
   "outputs": [],
   "source": [
    "sd_time_metal_sample=sd_metal[~sd_metal[\"file\"].isin(sd_metal_sig[\"file\"].tolist())]\n",
    "raw=pd.read_csv(\"../data/icb-genotypes/all.time.raw\",delim_whitespace=True,nrows=0)\n",
    "snps=[x.split(\"_\")[0] for x in raw.columns[6:]]\n",
    "snps=snps+[x.rsplit(\":\",2)[0]+\":\"+x.split(\":\")[3]+\":\"+x.split(\":\")[2] for x in snps]\n",
    "sd_time_metal_sample=sd_time_metal_sample[sd_time_metal_sample[\"MarkerName\"].isin(snps)]"
   ]
  },
  {
   "cell_type": "code",
   "execution_count": 48,
   "metadata": {},
   "outputs": [
    {
     "data": {
      "text/plain": [
       "206"
      ]
     },
     "execution_count": 48,
     "metadata": {},
     "output_type": "execute_result"
    }
   ],
   "source": [
    "len(sd_time_metal_sample[\"MarkerName\"].unique())"
   ]
  },
  {
   "cell_type": "code",
   "execution_count": 62,
   "metadata": {
    "collapsed": true,
    "jupyter": {
     "outputs_hidden": true
    },
    "tags": []
   },
   "outputs": [
    {
     "name": "stdout",
     "output_type": "stream",
     "text": [
      "0 iterations done\n",
      "constructing burden from 32 snps\n"
     ]
    },
    {
     "name": "stderr",
     "output_type": "stream",
     "text": [
      "<ipython-input-25-856b46e7345d>:36: SettingWithCopyWarning: \n",
      "A value is trying to be set on a copy of a slice from a DataFrame.\n",
      "Try using .loc[row_indexer,col_indexer] = value instead\n",
      "\n",
      "See the caveats in the documentation: https://pandas.pydata.org/pandas-docs/stable/user_guide/indexing.html#returning-a-view-versus-a-copy\n",
      "  raw_burden[\"score\"]=raw_burden.sum(axis=1)\n",
      "<ipython-input-25-856b46e7345d>:37: SettingWithCopyWarning: \n",
      "A value is trying to be set on a copy of a slice from a DataFrame.\n",
      "Try using .loc[row_indexer,col_indexer] = value instead\n",
      "\n",
      "See the caveats in the documentation: https://pandas.pydata.org/pandas-docs/stable/user_guide/indexing.html#returning-a-view-versus-a-copy\n",
      "  raw_burden[\"burden\"]=raw_burden[\"score\"]/(len(burden_snps)*2)\n",
      "<ipython-input-62-b133b6c772c9>:51: SettingWithCopyWarning: \n",
      "A value is trying to be set on a copy of a slice from a DataFrame.\n",
      "Try using .loc[row_indexer,col_indexer] = value instead\n",
      "\n",
      "See the caveats in the documentation: https://pandas.pydata.org/pandas-docs/stable/user_guide/indexing.html#returning-a-view-versus-a-copy\n",
      "  sig_burden_LASSO_testing[\"LASSO_burden\"]=p\n",
      "<ipython-input-62-b133b6c772c9>:52: SettingWithCopyWarning: \n",
      "A value is trying to be set on a copy of a slice from a DataFrame.\n",
      "Try using .loc[row_indexer,col_indexer] = value instead\n",
      "\n",
      "See the caveats in the documentation: https://pandas.pydata.org/pandas-docs/stable/user_guide/indexing.html#returning-a-view-versus-a-copy\n",
      "  sig_burden_LASSO_training[\"LASSO_burden\"]=p_disc\n"
     ]
    },
    {
     "name": "stdout",
     "output_type": "stream",
     "text": [
      "constructing burden from 32 snps\n",
      "constructing burden from 32 snps\n",
      "constructing burden from 32 snps\n",
      "constructing burden from 32 snps\n",
      "constructing burden from 32 snps\n",
      "constructing burden from 32 snps\n",
      "constructing burden from 32 snps\n",
      "constructing burden from 32 snps\n",
      "constructing burden from 32 snps\n",
      "10 iterations done\n",
      "constructing burden from 32 snps\n",
      "constructing burden from 32 snps\n",
      "constructing burden from 32 snps\n",
      "constructing burden from 32 snps\n",
      "constructing burden from 32 snps\n",
      "constructing burden from 32 snps\n",
      "constructing burden from 32 snps\n",
      "constructing burden from 32 snps\n",
      "constructing burden from 32 snps\n",
      "constructing burden from 32 snps\n",
      "20 iterations done\n",
      "constructing burden from 32 snps\n",
      "constructing burden from 32 snps\n",
      "constructing burden from 32 snps\n",
      "constructing burden from 32 snps\n",
      "constructing burden from 32 snps\n",
      "constructing burden from 32 snps\n",
      "constructing burden from 32 snps\n",
      "constructing burden from 32 snps\n",
      "constructing burden from 32 snps\n",
      "constructing burden from 32 snps\n",
      "30 iterations done\n",
      "constructing burden from 32 snps\n",
      "constructing burden from 32 snps\n",
      "constructing burden from 32 snps\n",
      "constructing burden from 32 snps\n",
      "constructing burden from 32 snps\n",
      "constructing burden from 32 snps\n",
      "constructing burden from 32 snps\n",
      "constructing burden from 32 snps\n",
      "constructing burden from 32 snps\n",
      "constructing burden from 32 snps\n",
      "40 iterations done\n",
      "constructing burden from 32 snps\n",
      "constructing burden from 32 snps\n",
      "constructing burden from 32 snps\n",
      "constructing burden from 32 snps\n",
      "constructing burden from 32 snps\n",
      "constructing burden from 32 snps\n",
      "constructing burden from 32 snps\n",
      "constructing burden from 32 snps\n",
      "constructing burden from 32 snps\n",
      "constructing burden from 32 snps\n",
      "50 iterations done\n",
      "constructing burden from 32 snps\n",
      "constructing burden from 32 snps\n",
      "constructing burden from 32 snps\n",
      "constructing burden from 32 snps\n",
      "constructing burden from 32 snps\n",
      "constructing burden from 32 snps\n",
      "constructing burden from 32 snps\n",
      "constructing burden from 32 snps\n",
      "constructing burden from 32 snps\n",
      "constructing burden from 32 snps\n",
      "60 iterations done\n",
      "constructing burden from 32 snps\n",
      "constructing burden from 32 snps\n",
      "constructing burden from 32 snps\n",
      "constructing burden from 32 snps\n",
      "constructing burden from 32 snps\n",
      "constructing burden from 32 snps\n",
      "constructing burden from 32 snps\n",
      "constructing burden from 32 snps\n",
      "constructing burden from 32 snps\n",
      "constructing burden from 32 snps\n",
      "70 iterations done\n",
      "constructing burden from 32 snps\n",
      "constructing burden from 32 snps\n",
      "constructing burden from 32 snps\n",
      "constructing burden from 32 snps\n",
      "constructing burden from 32 snps\n",
      "constructing burden from 32 snps\n",
      "constructing burden from 32 snps\n",
      "constructing burden from 32 snps\n",
      "constructing burden from 32 snps\n",
      "constructing burden from 32 snps\n",
      "80 iterations done\n",
      "constructing burden from 32 snps\n",
      "constructing burden from 32 snps\n",
      "constructing burden from 32 snps\n",
      "constructing burden from 32 snps\n",
      "constructing burden from 32 snps\n",
      "constructing burden from 32 snps\n",
      "constructing burden from 32 snps\n",
      "constructing burden from 32 snps\n",
      "constructing burden from 32 snps\n",
      "constructing burden from 32 snps\n",
      "90 iterations done\n",
      "constructing burden from 32 snps\n",
      "constructing burden from 32 snps\n",
      "constructing burden from 32 snps\n",
      "constructing burden from 32 snps\n",
      "constructing burden from 32 snps\n",
      "constructing burden from 32 snps\n",
      "constructing burden from 32 snps\n",
      "constructing burden from 32 snps\n",
      "constructing burden from 32 snps\n",
      "constructing burden from 32 snps\n"
     ]
    }
   ],
   "source": [
    "#Generate model and run it over 100 times\n",
    "disc_mean_list=[]\n",
    "miao_mean_list=[]\n",
    "rizvi_mean_list=[]\n",
    "\n",
    "for num in range(100):\n",
    "    \n",
    "    if num % 10 ==0:\n",
    "        print(\"{} iterations done\".format(num))\n",
    "    \n",
    "    #get random subset of sd_time_metal_sample\n",
    "    sd_time_metal_sample_subset=sd_time_metal_sample.sample(n=sd_metal_sig.shape[0], random_state=num)\n",
    "    \n",
    "    #get mp_alleles object\n",
    "    mp_alleles={}\n",
    "\n",
    "    for i,row in sd_time_metal_sample_subset.iterrows():\n",
    "        count=0\n",
    "        for sign in row[\"Direction\"]:\n",
    "            if sign == \"+\":\n",
    "                count+=1\n",
    "        if count > 2:\n",
    "            mp_alleles[row[\"MarkerName\"]]=row[\"Allele1\"].upper()\n",
    "        else:\n",
    "            mp_alleles[row[\"MarkerName\"]]=row[\"Allele2\"].upper()\n",
    "        \n",
    "    #make burden of subset in correct format\n",
    "    sig_burden_sample=make_burden(\"/cellar/users/mpagadal/projects/germline-immune/data/icb-genotypes/all.time.raw\",sd_time_metal_sample_subset[\"MarkerName\"].tolist(),mp_alleles)\n",
    "    sig_burden_sample[\"study\"]=sig_burden_sample.index.map(mp_study)\n",
    "    sig_burden_sample[\"pheno\"]=sig_burden_sample.index.map(mp_pheno)\n",
    "    sig_burden_sample=sig_burden_sample[~sig_burden_sample[\"pheno\"].isnull()]\n",
    "    \n",
    "    \n",
    "    #Generate dataset split and run model\n",
    "    sig_burden_LASSO_training=sig_burden_sample[sig_burden_sample[\"study\"].isin([\"vanallen\",\"hugo\",\"riaz\",\"snyder\"])]\n",
    "    sig_burden_LASSO_testing=sig_burden_sample[sig_burden_sample[\"study\"].isin([\"miao\",\"rizvi\"])]\n",
    "\n",
    "    sig_burden_LASSO_training_x=sig_burden_LASSO_training.drop(['score', 'burden','study','pheno'], axis=1)\n",
    "    sig_burden_LASSO_training_y=sig_burden_LASSO_training['pheno']\n",
    "\n",
    "    sig_burden_LASSO_testing_x=sig_burden_LASSO_testing.drop(['score', 'burden','study','pheno'], axis=1)\n",
    "    sig_burden_LASSO_testing_y=sig_burden_LASSO_testing['pheno']\n",
    "\n",
    "\n",
    "    regressor_xgb = xgboost.XGBRFRegressor(n_estimators = 500, random_state = 10,learning_rate=0.1,max_depth=9) \n",
    "    regressor_xgb.fit(sig_burden_LASSO_training_x, sig_burden_LASSO_training_y)   \n",
    "\n",
    "    p = regressor_xgb.predict(sig_burden_LASSO_testing_x)  # test the output by changing values\n",
    "    p_disc=regressor_xgb.predict(sig_burden_LASSO_training_x)\n",
    "\n",
    "    sig_burden_LASSO_testing[\"LASSO_burden\"]=p\n",
    "    sig_burden_LASSO_training[\"LASSO_burden\"]=p_disc\n",
    "\n",
    "\n",
    "    miao1 = p[np.logical_and(sig_burden_LASSO_testing[\"study\"]==\"miao\",sig_burden_LASSO_testing[\"pheno\"]==1)]\n",
    "    miao2 = p[np.logical_and(sig_burden_LASSO_testing[\"study\"]==\"miao\",sig_burden_LASSO_testing[\"pheno\"]==2)]\n",
    "    miao_mean_list.append(miao2.mean()-miao1.mean())\n",
    "    \n",
    "    rizvi1 = p[np.logical_and(sig_burden_LASSO_testing[\"study\"]==\"rizvi\",sig_burden_LASSO_testing[\"pheno\"]==1)]\n",
    "    rizvi2 = p[np.logical_and(sig_burden_LASSO_testing[\"study\"]==\"rizvi\",sig_burden_LASSO_testing[\"pheno\"]==2)]\n",
    "    rizvi_mean_list.append(rizvi2.mean()-rizvi1.mean())\n",
    "    \n",
    "    disc1 = p_disc[sig_burden_LASSO_training[\"pheno\"]==1]\n",
    "    disc2 = p_disc[sig_burden_LASSO_training[\"pheno\"]==2]\n",
    "    disc_mean_list.append(disc2.mean()-disc1.mean())"
   ]
  },
  {
   "cell_type": "code",
   "execution_count": 63,
   "metadata": {},
   "outputs": [
    {
     "name": "stdout",
     "output_type": "stream",
     "text": [
      "0.0\n"
     ]
    },
    {
     "data": {
      "image/png": "[encoded data removed]",
      "text/plain": [
       "<Figure size 432x288 with 1 Axes>"
      ]
     },
     "metadata": {
      "needs_background": "light"
     },
     "output_type": "display_data"
    }
   ],
   "source": [
    "plt.hist(rizvi_mean_list)\n",
    "truth=rizvi_score\n",
    "plt.axvline(truth,color=\"red\")\n",
    "plt.xlabel(\"burden score difference\")\n",
    "plt.ylabel(\"# patients\")\n",
    "plt.title(\"Rizvi et al. Validation\")\n",
    "print(len([x for x in rizvi_mean_list if x > truth])/len(rizvi_mean_list))\n",
    "plt.savefig(\"../plots/fig5/GENE_method_rizvi.bootstrapping.pdf\")"
   ]
  },
  {
   "cell_type": "code",
   "execution_count": 64,
   "metadata": {},
   "outputs": [
    {
     "name": "stdout",
     "output_type": "stream",
     "text": [
      "0.0\n"
     ]
    },
    {
     "data": {
      "image/png": "[encoded data removed]",
      "text/plain": [
       "<Figure size 432x288 with 1 Axes>"
      ]
     },
     "metadata": {
      "needs_background": "light"
     },
     "output_type": "display_data"
    }
   ],
   "source": [
    "plt.hist(miao_mean_list)\n",
    "truth=miao_score\n",
    "plt.axvline(truth,color=\"red\")\n",
    "plt.xlabel(\"burden score difference\")\n",
    "plt.ylabel(\"# patients\")\n",
    "plt.title(\"Miao et al. Validation\")\n",
    "print(len([x for x in miao_mean_list if x > truth])/len(miao_mean_list))\n",
    "plt.savefig(\"../plots/fig5/GENE_method_miao.bootstrapping.pdf\")"
   ]
  },
  {
   "cell_type": "markdown",
   "metadata": {},
   "source": [
    "### PCA plotting"
   ]
  },
  {
   "cell_type": "code",
   "execution_count": 65,
   "metadata": {},
   "outputs": [
    {
     "data": {
      "text/plain": [
       "(31, 12)"
      ]
     },
     "execution_count": 65,
     "metadata": {},
     "output_type": "execute_result"
    }
   ],
   "source": [
    "sd_metal_sig_dropped=sd_metal_sig[sd_metal_sig[\"MarkerName\"]!=\"16:23458272:T:C\"] #snp dropped from lasso model\n",
    "sd_metal_sig_dropped.shape"
   ]
  },
  {
   "cell_type": "code",
   "execution_count": 67,
   "metadata": {},
   "outputs": [
    {
     "name": "stdout",
     "output_type": "stream",
     "text": [
      "742\n"
     ]
    }
   ],
   "source": [
    "#get mapping file\n",
    "mapping=pd.read_csv(\"/cellar/users/mpagadal/immunotherapy-trials/data/wxs_rna_mapping_table_v2.tsv\",delimiter=\"\\t\")\n",
    "print(len(mapping[\"normal WXS id\"].unique()))\n",
    "mapping=mapping[~(mapping[\"tumor RNA id\"].isnull())]"
   ]
  },
  {
   "cell_type": "code",
   "execution_count": 68,
   "metadata": {},
   "outputs": [],
   "source": [
    "pca=pd.read_csv(\"../data/icb-geno-qc/pca/icb-time/pcs.txt\",delimiter=\"\\t\")\n",
    "mp_study=mp_study=dict(zip(mapping[\"normal WXS id\"],mapping[\"study\"]))\n",
    "pca[\"study\"]=pca[\"IID\"].map(mp_study)"
   ]
  },
  {
   "cell_type": "code",
   "execution_count": 69,
   "metadata": {},
   "outputs": [
    {
     "data": {
      "text/plain": [
       "liu         115\n",
       "riaz         52\n",
       "vanallen     40\n",
       "miao         33\n",
       "hugo         27\n",
       "Name: study, dtype: int64"
      ]
     },
     "execution_count": 69,
     "metadata": {},
     "output_type": "execute_result"
    }
   ],
   "source": [
    "pca[\"study\"].value_counts()"
   ]
  },
  {
   "cell_type": "code",
   "execution_count": 70,
   "metadata": {},
   "outputs": [],
   "source": [
    "pca=pca[pca[\"study\"].isin([\"hugo\",\"vanallen\",\"miao\",\"riaz\",\"rizvi\",\"snyder\"])]"
   ]
  },
  {
   "cell_type": "code",
   "execution_count": 71,
   "metadata": {},
   "outputs": [
    {
     "data": {
      "image/png": "[encoded data removed]",
      "text/plain": [
       "<Figure size 288x216 with 1 Axes>"
      ]
     },
     "metadata": {
      "needs_background": "light"
     },
     "output_type": "display_data"
    }
   ],
   "source": [
    "fig = plt.figure(figsize=(4,3))\n",
    "sns.scatterplot(x=\"PC1\",y=\"PC2\",hue=\"study\",data=pca)\n",
    "plt.legend(bbox_to_anchor=(1.5,.6))\n",
    "plt.savefig(\"../plots/fig5/icb.geno.pca.pdf\")"
   ]
  },
  {
   "cell_type": "code",
   "execution_count": 72,
   "metadata": {},
   "outputs": [],
   "source": [
    "loadings=pd.read_csv(\"/cellar/users/mpagadal/projects/germline-immune/data/icb-geno-qc/pca/icb-time/loadings.txt\",delimiter=\"\\t\")"
   ]
  },
  {
   "cell_type": "code",
   "execution_count": 73,
   "metadata": {},
   "outputs": [],
   "source": [
    "icb_snps=[x for x in loadings.sort_values(by=\"V1\")[\"SNP\"].tolist() if \"3:\" in x]"
   ]
  },
  {
   "cell_type": "markdown",
   "metadata": {},
   "source": [
    "### get pseudo r2 for patients"
   ]
  },
  {
   "cell_type": "markdown",
   "metadata": {},
   "source": [
    "### Check effects of variants"
   ]
  },
  {
   "cell_type": "code",
   "execution_count": 74,
   "metadata": {},
   "outputs": [
    {
     "name": "stdout",
     "output_type": "stream",
     "text": [
      "vanallen.assoc.logistic.add\n",
      "crist_hnscc.assoc.logistic.add\n",
      "hugo.assoc.logistic.add\n",
      "liu.assoc.logistic.add\n",
      "riaz.assoc.logistic.add\n",
      "crist_melanoma.assoc.logistic.add\n",
      "snyder.assoc.logistic.add\n",
      "rizvi.assoc.logistic.add\n",
      "miao.assoc.logistic.add\n"
     ]
    }
   ],
   "source": [
    "sd_metal_sig_dropped=sd_metal_sig.drop(sd_metal_sig[sd_metal_sig[\"MarkerName\"]==\"16:23458272:T:C\"].index) #this is the snp that has been dropped in the final model\n",
    "extract=sd_metal_sig_dropped[\"MarkerName\"].tolist()+[x.rsplit(\":\",2)[0]+\":\"+x.split(\":\")[3]+\":\"+x.split(\":\")[2] for x in sd_metal_sig_dropped[\"MarkerName\"].tolist()]\n",
    "\n",
    "assoc_dir=\"../data/icb-response/metal/input/response_crist_sd/\"\n",
    "compiled_icb=pd.DataFrame()\n",
    "\n",
    "for file in [x for x in os.listdir(assoc_dir) if \"add\" in x]:\n",
    "    print(file)\n",
    "    icb=pd.read_csv(assoc_dir+file,delimiter=\"\\t\")\n",
    "    icb=icb[icb[\"ID\"].isin(extract)]\n",
    "    icb=fdr(df=icb,p=\"P\")\n",
    "    icb[\"file\"]=file\n",
    "    compiled_icb=compiled_icb.append(icb)"
   ]
  },
  {
   "cell_type": "code",
   "execution_count": 75,
   "metadata": {},
   "outputs": [],
   "source": [
    "compiled_icb[\"log(OR)\"]=np.log10(compiled_icb[\"OR\"])\n",
    "compiled_icb[\"file\"]=compiled_icb[\"file\"].str.split(\".\").str[0]\n",
    "compiled_icb=compiled_icb[compiled_icb[\"file\"].isin([\"vanallen\",\"snyder\",\"rizvi\",\"riaz\",\"hugo\",\"miao\"])]\n",
    "compiled_icb=compiled_icb.sort_values(by=[\"#CHROM\",\"file\"])"
   ]
  },
  {
   "cell_type": "code",
   "execution_count": 76,
   "metadata": {},
   "outputs": [
    {
     "data": {
      "image/png": "[encoded data removed]",
      "text/plain": [
       "<Figure size 1800x360 with 2 Axes>"
      ]
     },
     "metadata": {
      "needs_background": "light"
     },
     "output_type": "display_data"
    }
   ],
   "source": [
    "#Plot\n",
    "\n",
    "def heatmap(x, y, size,color):\n",
    "    fig, ax = plt.subplots(figsize=(25, 5))\n",
    "    \n",
    "    # Mapping from column names to integer coordinates\n",
    "    x_labels = [v for v in x.unique()]\n",
    "    y_labels = [v for v in y.unique()]\n",
    "    x_to_num = {p[1]:p[0] for p in enumerate(x_labels)} \n",
    "    y_to_num = {p[1]:p[0] for p in enumerate(y_labels)} \n",
    "    \n",
    "    size_scale = 100\n",
    "    plt.scatter(\n",
    "        x=x.map(x_to_num), # Use mapping for x\n",
    "        y=y.map(y_to_num), # Use mapping for y\n",
    "        s=size * size_scale, \n",
    "        c=color,\n",
    "        cmap=\"RdBu_r\", vmin=-.5, vmax=.5# Vector of square sizes, proportional to size parameter\n",
    "    )\n",
    "    \n",
    "    # Show column labels on the axes\n",
    "    ax.set_xticks([x_to_num[v] for v in x_labels])\n",
    "    ax.set_xticklabels(x_labels, rotation=45, horizontalalignment='right')\n",
    "    ax.set_yticks([y_to_num[v] for v in y_labels])\n",
    "    ax.set_yticklabels(y_labels)\n",
    "    plt.colorbar()\n",
    "    \n",
    "    plt.xticks(rotation=90)\n",
    "    \n",
    "    \n",
    "rsid_table=pd.read_csv(\"/cellar/users/mpagadal/projects/germline-immune/data/supplemental/Supplemental_Table_3_annot.csv\",sep=\"\\t\")\n",
    "rsid_table=rsid_table.drop_duplicates(subset=\"rsid\")\n",
    "rsid_table=rsid_table[[\"snps\",\"rsid\"]]\n",
    "\n",
    "compiled_icb[\"ID2\"]=[x.rsplit(\":\",2)[0]+\":\"+x.split(\":\")[3]+\":\"+x.split(\":\")[2] for x in compiled_icb[\"ID\"].tolist()]\n",
    "\n",
    "compiled_icb_rsid=pd.merge(compiled_icb,rsid_table,left_on=\"ID\",right_on=\"snps\")\n",
    "compiled_icb_rsid2=pd.merge(compiled_icb,rsid_table,left_on=\"ID2\",right_on=\"snps\")\n",
    "\n",
    "compiled_icb_rsid_plot=pd.concat([compiled_icb_rsid,compiled_icb_rsid2],axis=0)\n",
    "compiled_icb_rsid_plot=compiled_icb_rsid_plot.sort_values(by=[\"#CHROM\",\"file\"])\n",
    "\n",
    "heatmap(\n",
    "    x=compiled_icb_rsid_plot['rsid'],\n",
    "    y=compiled_icb_rsid_plot['file'],\n",
    "    size=compiled_icb_rsid_plot['-log10(fdr)'],\n",
    "    color=compiled_icb_rsid_plot['log(OR)'],\n",
    ")\n",
    "\n",
    "plt.savefig(\"../plots/fig5/study.icb.clustermap.pdf\")"
   ]
  },
  {
   "cell_type": "markdown",
   "metadata": {},
   "source": [
    "### Check MAF of variants"
   ]
  },
  {
   "cell_type": "code",
   "execution_count": 77,
   "metadata": {},
   "outputs": [
    {
     "name": "stdout",
     "output_type": "stream",
     "text": [
      "snyder\n",
      "hugo\n",
      "riaz\n",
      "vanallen\n",
      "rizvi\n",
      "miao\n",
      "39127678 ICB SNPs available through imputation\n"
     ]
    }
   ],
   "source": [
    "v1_cohorts=[\"snyder\",\"hugo\",\"riaz\",\"vanallen\",\"rizvi\",\"miao\"]\n",
    "compiled_freq=compile_freq(\"../data/icb-response/metal/input/response_crist_sd/\",v1_cohorts)\n",
    "print(\"{} ICB SNPs available through imputation\".format(len(compiled_freq[\"ID\"].unique())))"
   ]
  },
  {
   "cell_type": "code",
   "execution_count": 78,
   "metadata": {},
   "outputs": [],
   "source": [
    "compiled_icb_freq=compiled_freq[compiled_freq[\"ID\"].isin(time_snps)]\n",
    "compiled_icb_freq=compiled_icb_freq[compiled_icb_freq.ID.isin(sd_metal_sig.sort_values(by=\"MarkerName\")[\"MarkerName\"].tolist())]\n",
    "df_freq=pd.merge(compiled_icb_freq[[\"ID\",\"ALT_FREQS\"]].groupby(\"ID\").mean(),compiled_icb_freq[[\"ID\",\"ALT_FREQS\"]].groupby(\"ID\").std(),right_index=True,left_index=True)\n",
    "df_freq.columns=[\"mean\",\"std\"]\n",
    "df_freq[\"chr\"]=df_freq.index.str.split(\":\").str[0]\n",
    "df_freq[\"chr\"]=df_freq[\"chr\"].astype(int)\n",
    "df_freq=df_freq.sort_values(by=\"chr\")"
   ]
  },
  {
   "cell_type": "code",
   "execution_count": 79,
   "metadata": {},
   "outputs": [
    {
     "data": {
      "image/png": "[encoded data removed]",
      "text/plain": [
       "<Figure size 1800x72 with 1 Axes>"
      ]
     },
     "metadata": {
      "needs_background": "light"
     },
     "output_type": "display_data"
    }
   ],
   "source": [
    "fig = plt.figure(figsize=(25,1))\n",
    "plt.errorbar(x=df_freq.index.tolist(),y=df_freq[\"mean\"].tolist(),yerr=df_freq[\"std\"].tolist(),fmt=\"o\",color=\"gray\")\n",
    "plt.xticks(rotation=90)\n",
    "plt.savefig(\"../plots/fig5/maf.error.pdf\")"
   ]
  },
  {
   "cell_type": "markdown",
   "metadata": {},
   "source": [
    "### TMB analysis of other cohorts: TMB vs germline PRS variance explained, TMB vs germline PRS AUC. TMB+germline PRS AUC?"
   ]
  },
  {
   "cell_type": "code",
   "execution_count": null,
   "metadata": {},
   "outputs": [],
   "source": [
    "with open('/cellar/users/mpagadal/resources/tcga/ensembl_map.json', 'r') as f:\n",
    "    ensembl = json.load(f)\n",
    "ensembl={k.split(\".\")[0]:v for k,v in ensembl.items()}"
   ]
  },
  {
   "cell_type": "code",
   "execution_count": null,
   "metadata": {},
   "outputs": [],
   "source": [
    "with open('/cellar/controlled/dbgap-genetic/ICB/rna/TPMs/all_immunotherapy_tpm.json', 'r') as f:\n",
    "    icb_tpm = json.load(f)\n",
    "tpm=pd.DataFrame.from_dict(icb_tpm)"
   ]
  },
  {
   "cell_type": "code",
   "execution_count": null,
   "metadata": {},
   "outputs": [],
   "source": [
    "def fdr(df,pseudo,p):\n",
    "    \n",
    "    '''\n",
    "    calculate Benjamini-Hochberg FDR\n",
    "    pseudo: True or False\n",
    "    '''\n",
    "    \n",
    "    #add pseudocounta\n",
    "    if pseudo == True:\n",
    "        df[p]=df[p]+0.000000000001\n",
    "    \n",
    "    #calculate benjamin-hochberg fdr\n",
    "    probabilities = df[p].to_numpy()\n",
    "    report = multi.multipletests(probabilities,\n",
    "                alpha=0.05,\n",
    "                method=\"fdr_bh\",\n",
    "                is_sorted=False,\n",
    "            )\n",
    "    discoveries = report[1]\n",
    "    df[\"fdr\"]=discoveries\n",
    "    df[\"fdr\"]=pd.to_numeric(df[\"fdr\"])\n",
    "    df[\"-log10(fdr)\"]=-np.log10(df[\"fdr\"])\n",
    "    \n",
    "    return(df)"
   ]
  },
  {
   "cell_type": "markdown",
   "metadata": {},
   "source": [
    "### Get PD-1/PD-L1"
   ]
  },
  {
   "cell_type": "code",
   "execution_count": null,
   "metadata": {},
   "outputs": [],
   "source": [
    "#analyze TPM rna\n",
    "rna=tpm.copy()\n",
    "rna+=1\n",
    "rna=np.log2(rna)"
   ]
  },
  {
   "cell_type": "code",
   "execution_count": null,
   "metadata": {},
   "outputs": [],
   "source": [
    "rna.index=rna.index.str.split(\".\").str[0]\n",
    "rna[\"gene name\"]=rna.index.map(ensembl)\n",
    "rna=rna[~(rna[\"gene name\"].isnull())]\n",
    "rna.index=rna[\"gene name\"]\n",
    "del rna[\"gene name\"]\n",
    "rna=rna.T\n",
    "rna.index=rna.index.str.split(\".sra\").str[0]\n",
    "rna=rna.reset_index()\n",
    "rna=rna.rename(columns={\"index\":\"FID\"})"
   ]
  },
  {
   "cell_type": "code",
   "execution_count": null,
   "metadata": {},
   "outputs": [],
   "source": [
    "mp_study=dict(zip(mapping[\"tumor RNA id\"],mapping[\"study\"]))\n",
    "mp_time=dict(zip(mapping[\"tumor RNA id\"],mapping[\"Biopsy Time\"]))\n",
    "mp_response=dict(zip(mapping[\"normal WXS id\"],mapping[\"Response\"]))\n",
    "mp_rna2geno=dict(zip(mapping[\"tumor RNA id\"],mapping[\"normal WXS id\"]))\n",
    "\n",
    "mp_tmr2geno={}\n",
    "for i,row in mapping.iterrows():\n",
    "    for x in row[\"tumor WXS id\"].split(\", \"):\n",
    "        mp_tmr2geno[x]=row[\"normal WXS id\"]"
   ]
  },
  {
   "cell_type": "code",
   "execution_count": null,
   "metadata": {},
   "outputs": [],
   "source": [
    "rna[\"study\"]=rna[\"FID\"].map(mp_study)\n",
    "rna[\"time\"]=rna[\"FID\"].map(mp_time)\n",
    "\n",
    "rna[\"FID\"]=rna[\"FID\"].map(mp_rna2geno)\n",
    "rna_filt=rna[~(rna[\"FID\"].isnull())]\n",
    "\n",
    "rna_filt[\"response\"]=rna_filt[\"FID\"].map(mp_response)\n",
    "\n",
    "dict_response={\"Progressive Disease\":\"PD\",\"Partial Response\":\"PR\",\"Complete Response\":\"CR\"}\n",
    "rna_filt=rna_filt.replace({\"response\": dict_response})\n",
    "rna_filt_pre=rna_filt[~rna_filt[\"time\"].isin([\"On\",\"on-treatment\"])]"
   ]
  },
  {
   "cell_type": "code",
   "execution_count": null,
   "metadata": {},
   "outputs": [],
   "source": [
    "ic_exp=rna_filt_pre[[\"FID\",\"PDCD1\",\"CD274\",\"CTLA4\"]]"
   ]
  },
  {
   "cell_type": "markdown",
   "metadata": {},
   "source": [
    "### Get TMB"
   ]
  },
  {
   "cell_type": "code",
   "execution_count": null,
   "metadata": {},
   "outputs": [],
   "source": [
    "tmb=pd.read_csv(\"/cellar/users/mpagadal/immunotherapy-trials/data/tmb/mutect.filtered.muts.tsv\",delimiter=\"\\t\")\n",
    "tmb=tmb[[\"tumor_id\"]].groupby([\"tumor_id\"]).size().reset_index()\n",
    "tmb.columns=[\"tumor_id\",\"TMB\"]"
   ]
  },
  {
   "cell_type": "code",
   "execution_count": null,
   "metadata": {},
   "outputs": [],
   "source": [
    "tmb[\"FID\"]=tmb[\"tumor_id\"].map(mp_tmr2geno)"
   ]
  },
  {
   "cell_type": "code",
   "execution_count": null,
   "metadata": {},
   "outputs": [],
   "source": [
    "tmb=tmb[~tmb[\"FID\"].isnull()]"
   ]
  },
  {
   "cell_type": "code",
   "execution_count": null,
   "metadata": {},
   "outputs": [],
   "source": [
    "tmb=tmb[[\"FID\",\"TMB\"]].groupby([\"FID\"]).mean().reset_index()"
   ]
  },
  {
   "cell_type": "code",
   "execution_count": null,
   "metadata": {},
   "outputs": [],
   "source": [
    "print(len(tmb))"
   ]
  },
  {
   "cell_type": "markdown",
   "metadata": {},
   "source": [
    "### Get germline PRS"
   ]
  },
  {
   "cell_type": "code",
   "execution_count": null,
   "metadata": {},
   "outputs": [],
   "source": [
    "compiled_prs1=pd.read_csv(\"/cellar/users/tsears/projects/germline-immune/data/sig_burden_LASSO_testing.csv\")  #read in new SNP results\n",
    "compiled_prs2=pd.read_csv(\"/cellar/users/tsears/projects/germline-immune/data/sig_burden_LASSO_training.csv\")  #read in new SNP results\n",
    "compiled_prs=pd.concat([compiled_prs1,compiled_prs2])"
   ]
  },
  {
   "cell_type": "code",
   "execution_count": null,
   "metadata": {},
   "outputs": [],
   "source": [
    "compiled_prs=compiled_prs[[\"FID\",\"LASSO_burden\",\"pheno\",\"study\"]]\n",
    "compiled_prs.shape"
   ]
  },
  {
   "cell_type": "markdown",
   "metadata": {},
   "source": [
    "### Get covariate"
   ]
  },
  {
   "cell_type": "code",
   "execution_count": null,
   "metadata": {},
   "outputs": [],
   "source": [
    "cov=pd.read_csv(\"/nrnb/users/mpagadal/immunotherapy-trials/normal_wxs/covar/total.cov.age.sex.study.v2.txt\",delimiter=\"\\t\")"
   ]
  },
  {
   "cell_type": "markdown",
   "metadata": {},
   "source": [
    "### Combine"
   ]
  },
  {
   "cell_type": "code",
   "execution_count": null,
   "metadata": {},
   "outputs": [],
   "source": [
    "markers=pd.merge(ic_exp,tmb[[\"FID\",\"TMB\"]],on=\"FID\",how=\"left\")\n",
    "markers=pd.merge(markers,compiled_prs,on=\"FID\",how=\"outer\")\n",
    "markers=pd.merge(markers,cov,on=[\"FID\"])\n",
    "markers=markers[~markers[\"study\"].isnull()]"
   ]
  },
  {
   "cell_type": "code",
   "execution_count": null,
   "metadata": {},
   "outputs": [],
   "source": [
    "markers[\"response\"]=markers[\"pheno\"].map({2:1,1:0})"
   ]
  },
  {
   "cell_type": "code",
   "execution_count": null,
   "metadata": {},
   "outputs": [],
   "source": [
    "markers_miao_TMB=markers[markers[\"study\"]==\"miao\"].dropna()\n",
    "markers_miao=markers[markers[\"study\"]==\"miao\"]\n",
    "markers_miao_TMB.shape\n",
    "\n",
    "fpr, tpr, threshold = metrics.roc_curve(markers_miao[\"pheno\"],markers_miao[\"LASSO_burden\"],pos_label=2)\n",
    "roc_auc = metrics.auc(fpr, tpr)\n",
    "\n",
    "fpr1, tpr1, threshold1 = metrics.roc_curve(markers_miao_TMB[\"pheno\"],markers_miao_TMB[\"CTLA4\"],pos_label=2)\n",
    "roc_auc1 = metrics.auc(fpr1, tpr1)\n",
    "\n",
    "# method I: plt\n",
    "plt.figure(figsize=(6,6))\n",
    "plt.title('Receiver Operating Characteristic')\n",
    "plt.plot(fpr, tpr, 'b', label = 'Miao PRS AUC = %0.2f' % roc_auc)\n",
    "plt.plot(fpr1, tpr1, 'b', label = 'Miao TMB AUC = %0.2f' % roc_auc1,color=\"red\")\n",
    "plt.legend(loc = 'lower right')\n",
    "plt.plot([0, 1], [0, 1],'r--')\n",
    "plt.xlim([0, 1])\n",
    "plt.ylim([0, 1])\n",
    "plt.ylabel('True Positive Rate')\n",
    "plt.xlabel('False Positive Rate')\n",
    "plt.savefig(\"../plots/fig5/Miao_TMB_vs_PRS_AUC_plot.pdf\")\n",
    "plt.show()\n"
   ]
  },
  {
   "cell_type": "code",
   "execution_count": null,
   "metadata": {},
   "outputs": [],
   "source": [
    "results=pd.read_csv(\"/cellar/users/tsears/projects/germline-immune/data/r2.results.csv\")"
   ]
  },
  {
   "cell_type": "code",
   "execution_count": null,
   "metadata": {},
   "outputs": [],
   "source": [
    "results=results[results[\"Unnamed: 0\"].str.contains(\"McFadden\")]\n",
    "results=results[~results[\"Unnamed: 0\"].str.contains(\"Adj\")]"
   ]
  },
  {
   "cell_type": "code",
   "execution_count": null,
   "metadata": {},
   "outputs": [],
   "source": [
    "results=results.pivot(index=\"study\",columns=\"model\",values=\"r2\").fillna(0)"
   ]
  },
  {
   "cell_type": "code",
   "execution_count": null,
   "metadata": {},
   "outputs": [],
   "source": [
    "results=results[results.index.isin([\"miao\"])]\n",
    "results=results.reset_index()"
   ]
  },
  {
   "cell_type": "code",
   "execution_count": null,
   "metadata": {},
   "outputs": [],
   "source": [
    "results=pd.melt(results,id_vars=[\"study\"],value_vars=[\"TMB\",\"TMB/PD1/PDL1/CTLA4\",\"TMB/PD1/PDL1/CTLA4+germline\",\"germline PRS only\"])"
   ]
  },
  {
   "cell_type": "code",
   "execution_count": null,
   "metadata": {},
   "outputs": [],
   "source": [
    "results=results.reindex([2,3,1,0])"
   ]
  },
  {
   "cell_type": "code",
   "execution_count": null,
   "metadata": {},
   "outputs": [],
   "source": [
    "fig = plt.figure(figsize =(5, 7))\n",
    "plt.rcParams.update({'font.size': 16})\n",
    "plt.autolayout : True\n",
    "# Horizontal Bar Plot\n",
    "plt.barh(results[\"model\"], results[\"value\"],color=[\"tab:blue\",\"coral\",\"tab:green\",\"firebrick\"])\n",
    "plt.xlabel(\"Variance Explained\")\n",
    "# Show Plot\n",
    "plt.title(\"Miao variance explained\")\n",
    "plt.savefig(\"../plots../tables/time-germline.csvpdf\",bbox_inches = \"tight\")\n",
    "plt.show()"
   ]
  },
  {
   "cell_type": "code",
   "execution_count": null,
   "metadata": {},
   "outputs": [],
   "source": []
  },
  {
   "cell_type": "code",
   "execution_count": null,
   "metadata": {},
   "outputs": [],
   "source": []
  }
 ],
 "metadata": {
  "interpreter": {
   "hash": "b5d73abd405adf62458e87f25035de57e4c69dbf30168b9961f41f2e4bcbd031"
  },
  "kernelspec": {
   "display_name": "Python 3",
   "language": "python",
   "name": "python3"
  },
  "language_info": {
   "codemirror_mode": {
    "name": "ipython",
    "version": 3
   },
   "file_extension": ".py",
   "mimetype": "text/x-python",
   "name": "python",
   "nbconvert_exporter": "python",
   "pygments_lexer": "ipython3",
   "version": "3.9.7"
  }
 },
 "nbformat": 4,
 "nbformat_minor": 4
}
